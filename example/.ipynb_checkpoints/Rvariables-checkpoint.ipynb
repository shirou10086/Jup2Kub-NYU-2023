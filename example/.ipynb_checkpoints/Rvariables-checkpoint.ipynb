{
 "cells": [
  {
   "cell_type": "code",
   "execution_count": null,
   "id": "dd80c388-e9e2-4076-80ae-a6b2a703b953",
   "metadata": {},
   "outputs": [],
   "source": [
    "#R\n",
    "# Cell 1: \n",
    "my_vector <- c(1, 2, 3, 4, 5)\n",
    "\n",
    "\n",
    "multiply_by_two <- function(x) {\n",
    "  return(x * 2)\n",
    "}\n"
   ]
  },
  {
   "cell_type": "code",
   "execution_count": null,
   "id": "dbb3d9ca-182e-4b80-a36f-10f971d9d5b2",
   "metadata": {},
   "outputs": [],
   "source": [
    "#R\n",
    "# Cell 2:\n",
    "new_vector <- sapply(my_vector, multiply_by_two)\n",
    "\n",
    "my_vector <- new_vector\n",
    "print(my_vector)\n"
   ]
  },
  {
   "cell_type": "code",
   "execution_count": null,
   "id": "4072d85e-1a6d-41cb-8a21-e97567a46c02",
   "metadata": {},
   "outputs": [],
   "source": [
    "#R\n",
    "# Cell 3: \n",
    "sum_of_vector <- sum(my_vector)\n",
    "print(sum_of_vector)\n"
   ]
  },
  {
   "cell_type": "code",
   "execution_count": null,
   "id": "8bfcb186-c2eb-4cf5-9f51-f0363aa2e3d3",
   "metadata": {},
   "outputs": [],
   "source": [
    "#R\n",
    "# Cell 4: \n",
    "my_vector <- c(1, 2, 3, 4, 5)\n",
    "mean_of_vector <- mean(my_vector)\n",
    "print(mean_of_vector)\n",
    "element <- 1 "
   ]
  },
  {
   "cell_type": "code",
   "execution_count": null,
   "id": "232a7ff5-e650-42e1-b443-4e1f9fdf079b",
   "metadata": {},
   "outputs": [],
   "source": [
    "#R\n",
    "for (element in my_vector) {\n",
    "  print(element)\n",
    "}\n"
   ]
  }
 ],
 "metadata": {
  "kernelspec": {
   "display_name": "Python 3 (ipykernel)",
   "language": "python",
   "name": "python3"
  },
  "language_info": {
   "codemirror_mode": {
    "name": "ipython",
    "version": 3
   },
   "file_extension": ".py",
   "mimetype": "text/x-python",
   "name": "python",
   "nbconvert_exporter": "python",
   "pygments_lexer": "ipython3",
   "version": "3.12.1"
  }
 },
 "nbformat": 4,
 "nbformat_minor": 5
}
